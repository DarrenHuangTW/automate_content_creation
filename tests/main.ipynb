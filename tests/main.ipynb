{
 "cells": [
  {
   "cell_type": "code",
   "execution_count": 2,
   "metadata": {},
   "outputs": [],
   "source": [
    "import aisuite as ai\n",
    "import os\n",
    "import requests\n",
    "import pandas as pd\n",
    "from dotenv import load_dotenv\n",
    "from collections import Counter"
   ]
  },
  {
   "cell_type": "code",
   "execution_count": 3,
   "metadata": {},
   "outputs": [
    {
     "data": {
      "text/plain": [
       "True"
      ]
     },
     "execution_count": 3,
     "metadata": {},
     "output_type": "execute_result"
    }
   ],
   "source": [
    "client = ai.Client()\n",
    "model = [\"openai:gpt-4o\", \"openai:gpt-4o-mini\"]\n",
    "load_dotenv() "
   ]
  },
  {
   "cell_type": "markdown",
   "metadata": {},
   "source": [
    "## Step 1: Analyze Prompt & Topic Recommendations"
   ]
  },
  {
   "cell_type": "code",
   "execution_count": null,
   "metadata": {},
   "outputs": [],
   "source": [
    "user_input = input(\"What do you want to write about? \")\n",
    "\n",
    "messages = [\n",
    "    {\"role\": \"system\", \"content\": \"You are a senior content planner. You provide diverse blog topics based on users need and topics.\"},\n",
    "    {\"role\": \"user\", \"content\": f\"Based on the user's query: {user_input}, provide 5 compelling blog topics.\"},\n",
    "]\n",
    "\n",
    "response = client.chat.completions.create(\n",
    "    model=model[1],\n",
    "    messages=messages,\n",
    "    temperature=0.75\n",
    ")\n",
    "print(response.choices[0].message.content)"
   ]
  },
  {
   "cell_type": "markdown",
   "metadata": {},
   "source": [
    "## Step 2: Confirm and Research Topic\n",
    "https://serpapi.com/organic-results"
   ]
  },
  {
   "cell_type": "code",
   "execution_count": 4,
   "metadata": {},
   "outputs": [],
   "source": [
    "# topic_query = input(\"What is the final topic you want to write about? \")\n",
    "topic_query = \"Top Digital Nomads Destinations in Asia\"\n",
    "topic_query = \"How to Buy a House in Singapore as a Foreigner?\""
   ]
  },
  {
   "cell_type": "code",
   "execution_count": 5,
   "metadata": {},
   "outputs": [
    {
     "name": "stdout",
     "output_type": "stream",
     "text": [
      "Search results retrieved successfully.\n"
     ]
    }
   ],
   "source": [
    "base_url = \"https://serpapi.com/search.json\"\n",
    "params = {\n",
    "    \"q\": topic_query,\n",
    "    \"hl\": \"en\",\n",
    "    \"gl\": \"us\",\n",
    "    \"google_domain\": \"google.com\",\n",
    "    \"api_key\": os.getenv(\"SERPAPI_KEY\")\n",
    "}\n",
    "\n",
    "# Make the API request\n",
    "response = requests.get(base_url, params=params)\n",
    "\n",
    "# Check if the request was successful\n",
    "if response.status_code == 200:\n",
    "    results = response.json()\n",
    "    # Process the results as needed\n",
    "    print(\"Search results retrieved successfully.\")\n",
    "else:\n",
    "    print(f\"Failed to retrieve search results. Status code: {response.status_code}\")"
   ]
  },
  {
   "cell_type": "code",
   "execution_count": 6,
   "metadata": {},
   "outputs": [],
   "source": [
    "# Create a list to store the results\n",
    "data = []\n",
    "\n",
    "# Iterate over the results and append to the list\n",
    "for result in results.get('organic_results', []):\n",
    "    position = result.get('position')\n",
    "    link = result.get('link')\n",
    "    title = result.get('title')\n",
    "    data.append({'Position': position, 'Link': link, 'Title': title})\n",
    "\n",
    "# Convert the list to a DataFrame\n",
    "df_results = pd.DataFrame(data)\n",
    "\n",
    "df_serp = df_results.copy()"
   ]
  },
  {
   "cell_type": "markdown",
   "metadata": {},
   "source": [
    "## Step 3: Analyze SEMRush Data"
   ]
  },
  {
   "cell_type": "code",
   "execution_count": 7,
   "metadata": {},
   "outputs": [],
   "source": [
    "from urllib.parse import quote\n",
    "\n",
    "def get_semrush_data(url, api_key=os.getenv(\"SEMRUSH_API_KEY\")):\n",
    "    base_url = \"https://api.semrush.com/\"\n",
    "    type_param = \"url_organic\"\n",
    "    export_columns = \"Ph,Po,Nq,Cp,Co\"\n",
    "    database = \"us\"\n",
    "    display_limit = 50\n",
    "    display_filter = \"%2B%7CPo%7CLt%7C50\" #Position lower than 50\n",
    "    display_sort = \"po_asc\" #Asc sort by position \n",
    "       \n",
    "    full_url = (\n",
    "        f\"{base_url}?type={type_param}&key={api_key}\"\n",
    "        f\"&display_limit={display_limit}&export_columns={export_columns}\"\n",
    "        f\"&url={url}&database={database}\"\n",
    "        f\"&display_filter={display_filter}&display_sort={display_sort}\"\n",
    "    )\n",
    "\n",
    "    print(full_url)\n",
    "    \n",
    "    response = requests.get(full_url)\n",
    "    if response.status_code == 200:\n",
    "        api_output = response.content\n",
    "        print(api_output)\n",
    "        decoded_output = api_output.decode('utf-8')\n",
    "        lines = decoded_output.split('\\r\\n')\n",
    "        headers = lines[0].split(';')\n",
    "        json_data = []\n",
    "        for line in lines[1:]:\n",
    "            if line:  # Ensure the line is not empty\n",
    "                values = line.split(';')\n",
    "                record = {header: value for header, value in zip(headers, values)}\n",
    "                json_data.append(record)       \n",
    "        return json_data\n",
    "    else:\n",
    "        return []"
   ]
  },
  {
   "cell_type": "code",
   "execution_count": 8,
   "metadata": {},
   "outputs": [
    {
     "name": "stdout",
     "output_type": "stream",
     "text": [
      "https://api.semrush.com/?type=url_organic&key=cde4f7ee33018efbf83128a179c13a83&display_limit=50&export_columns=Ph,Po,Nq,Cp,Co&url=https://www.reddit.com/r/digitalnomad/comments/vl38d1/which_country_place_in_asia_is_the_best_for/&database=us&display_filter=%2B%7CPo%7CLt%7C50&display_sort=po_asc\n",
      "b'Keyword;Position;Search Volume;CPC;Competition\\r\\nbest places to work remotely in asia;1;40;0.00;0.00\\r\\n'\n",
      "https://api.semrush.com/?type=url_organic&key=cde4f7ee33018efbf83128a179c13a83&display_limit=50&export_columns=Ph,Po,Nq,Cp,Co&url=https://www.lostcoconuts.com/best-destinations-southeast-asia-digital-nomads/&database=us&display_filter=%2B%7CPo%7CLt%7C50&display_sort=po_asc\n",
      "b'Keyword;Position;Search Volume;CPC;Competition\\r\\nbest places to work remotely in asia;6;40;0.00;0.00\\r\\n'\n",
      "https://api.semrush.com/?type=url_organic&key=cde4f7ee33018efbf83128a179c13a83&display_limit=50&export_columns=Ph,Po,Nq,Cp,Co&url=https://www.goatsontheroad.com/digital-nomad-cities-asia/&database=us&display_filter=%2B%7CPo%7CLt%7C50&display_sort=po_asc\n",
      "b'Keyword;Position;Search Volume;CPC;Competition\\r\\nbest places to work remotely in asia;9;40;0.00;0.00\\r\\n'\n",
      "https://api.semrush.com/?type=url_organic&key=cde4f7ee33018efbf83128a179c13a83&display_limit=50&export_columns=Ph,Po,Nq,Cp,Co&url=https://www.thedigitalnomad.asia/&database=us&display_filter=%2B%7CPo%7CLt%7C50&display_sort=po_asc\n",
      "b'ERROR 50 :: NOTHING FOUND\\n'\n",
      "https://api.semrush.com/?type=url_organic&key=cde4f7ee33018efbf83128a179c13a83&display_limit=50&export_columns=Ph,Po,Nq,Cp,Co&url=https://nomadsembassy.com/best-digital-nomad-cities-in-asia/&database=us&display_filter=%2B%7CPo%7CLt%7C50&display_sort=po_asc\n",
      "b'Keyword;Position;Search Volume;CPC;Competition\\r\\nbest places to work remotely in asia;3;40;0.00;0.00\\r\\n'\n",
      "https://api.semrush.com/?type=url_organic&key=cde4f7ee33018efbf83128a179c13a83&display_limit=50&export_columns=Ph,Po,Nq,Cp,Co&url=https://www.creimermanlaw.com/post/top-southeast-asian-destinations-for-expats-and-digital-nomads-in-2024&database=us&display_filter=%2B%7CPo%7CLt%7C50&display_sort=po_asc\n",
      "b'ERROR 50 :: NOTHING FOUND\\n'\n",
      "https://api.semrush.com/?type=url_organic&key=cde4f7ee33018efbf83128a179c13a83&display_limit=50&export_columns=Ph,Po,Nq,Cp,Co&url=https://guide.genki.world/easy-travel-planning-for-asia/&database=us&display_filter=%2B%7CPo%7CLt%7C50&display_sort=po_asc\n",
      "b'ERROR 50 :: NOTHING FOUND\\n'\n"
     ]
    }
   ],
   "source": [
    "df_results['SEMRush_Data'] = df_results['Link'].apply(get_semrush_data)"
   ]
  },
  {
   "cell_type": "code",
   "execution_count": 9,
   "metadata": {},
   "outputs": [
    {
     "name": "stdout",
     "output_type": "stream",
     "text": [
      "https://www.reddit.com/r/digitalnomad/comments/vl38d1/which_country_place_in_asia_is_the_best_for/\n",
      "https://api.semrush.com/?type=url_organic&key=cde4f7ee33018efbf83128a179c13a83&display_limit=50&export_columns=Ph,Po,Nq,Cp,Co&url=https://www.reddit.com/r/digitalnomad/comments/vl38d1/which_country_place_in_asia_is_the_best_for/&database=us&display_filter=%2B%7CPo%7CLt%7C50&display_sort=po_asc\n",
      "b'Keyword;Position;Search Volume;CPC;Competition\\r\\nbest places to work remotely in asia;1;40;0.00;0.00\\r\\n'\n"
     ]
    },
    {
     "data": {
      "text/plain": [
       "[{'Keyword': 'best places to work remotely in asia',\n",
       "  'Position': '1',\n",
       "  'Search Volume': '40',\n",
       "  'CPC': '0.00',\n",
       "  'Competition': '0.00'}]"
      ]
     },
     "execution_count": 9,
     "metadata": {},
     "output_type": "execute_result"
    }
   ],
   "source": [
    "test_url = df_results.iloc[0]['Link']\n",
    "print(test_url)\n",
    "get_semrush_data(test_url)"
   ]
  },
  {
   "cell_type": "code",
   "execution_count": 10,
   "metadata": {},
   "outputs": [
    {
     "data": {
      "text/html": [
       "<div>\n",
       "<style scoped>\n",
       "    .dataframe tbody tr th:only-of-type {\n",
       "        vertical-align: middle;\n",
       "    }\n",
       "\n",
       "    .dataframe tbody tr th {\n",
       "        vertical-align: top;\n",
       "    }\n",
       "\n",
       "    .dataframe thead th {\n",
       "        text-align: right;\n",
       "    }\n",
       "</style>\n",
       "<table border=\"1\" class=\"dataframe\">\n",
       "  <thead>\n",
       "    <tr style=\"text-align: right;\">\n",
       "      <th></th>\n",
       "      <th>Position</th>\n",
       "      <th>Link</th>\n",
       "      <th>Title</th>\n",
       "      <th>SEMRush_Data</th>\n",
       "    </tr>\n",
       "  </thead>\n",
       "  <tbody>\n",
       "    <tr>\n",
       "      <th>0</th>\n",
       "      <td>1</td>\n",
       "      <td>https://www.reddit.com/r/digitalnomad/comments...</td>\n",
       "      <td>Which country / place in Asia is the best for ...</td>\n",
       "      <td>[{'Keyword': 'best places to work remotely in ...</td>\n",
       "    </tr>\n",
       "    <tr>\n",
       "      <th>1</th>\n",
       "      <td>2</td>\n",
       "      <td>https://www.lostcoconuts.com/best-destinations...</td>\n",
       "      <td>12 best destinations in Southeast Asia for dig...</td>\n",
       "      <td>[{'Keyword': 'best places to work remotely in ...</td>\n",
       "    </tr>\n",
       "    <tr>\n",
       "      <th>2</th>\n",
       "      <td>3</td>\n",
       "      <td>https://www.goatsontheroad.com/digital-nomad-c...</td>\n",
       "      <td>7 Best Digital Nomad Cities in Asia</td>\n",
       "      <td>[{'Keyword': 'best places to work remotely in ...</td>\n",
       "    </tr>\n",
       "    <tr>\n",
       "      <th>3</th>\n",
       "      <td>4</td>\n",
       "      <td>https://www.thedigitalnomad.asia/</td>\n",
       "      <td>Digital Nomad Asia</td>\n",
       "      <td>[]</td>\n",
       "    </tr>\n",
       "    <tr>\n",
       "      <th>4</th>\n",
       "      <td>5</td>\n",
       "      <td>https://nomadsembassy.com/best-digital-nomad-c...</td>\n",
       "      <td>12 Best Digital Nomad Cities in Asia [2024 Edi...</td>\n",
       "      <td>[{'Keyword': 'best places to work remotely in ...</td>\n",
       "    </tr>\n",
       "    <tr>\n",
       "      <th>5</th>\n",
       "      <td>6</td>\n",
       "      <td>https://www.creimermanlaw.com/post/top-southea...</td>\n",
       "      <td>Top Southeast Asian Destinations for Expats an...</td>\n",
       "      <td>[]</td>\n",
       "    </tr>\n",
       "    <tr>\n",
       "      <th>6</th>\n",
       "      <td>7</td>\n",
       "      <td>https://guide.genki.world/easy-travel-planning...</td>\n",
       "      <td>Asia made easy</td>\n",
       "      <td>[]</td>\n",
       "    </tr>\n",
       "  </tbody>\n",
       "</table>\n",
       "</div>"
      ],
      "text/plain": [
       "   Position                                               Link  \\\n",
       "0         1  https://www.reddit.com/r/digitalnomad/comments...   \n",
       "1         2  https://www.lostcoconuts.com/best-destinations...   \n",
       "2         3  https://www.goatsontheroad.com/digital-nomad-c...   \n",
       "3         4                  https://www.thedigitalnomad.asia/   \n",
       "4         5  https://nomadsembassy.com/best-digital-nomad-c...   \n",
       "5         6  https://www.creimermanlaw.com/post/top-southea...   \n",
       "6         7  https://guide.genki.world/easy-travel-planning...   \n",
       "\n",
       "                                               Title  \\\n",
       "0  Which country / place in Asia is the best for ...   \n",
       "1  12 best destinations in Southeast Asia for dig...   \n",
       "2                7 Best Digital Nomad Cities in Asia   \n",
       "3                                 Digital Nomad Asia   \n",
       "4  12 Best Digital Nomad Cities in Asia [2024 Edi...   \n",
       "5  Top Southeast Asian Destinations for Expats an...   \n",
       "6                                     Asia made easy   \n",
       "\n",
       "                                        SEMRush_Data  \n",
       "0  [{'Keyword': 'best places to work remotely in ...  \n",
       "1  [{'Keyword': 'best places to work remotely in ...  \n",
       "2  [{'Keyword': 'best places to work remotely in ...  \n",
       "3                                                 []  \n",
       "4  [{'Keyword': 'best places to work remotely in ...  \n",
       "5                                                 []  \n",
       "6                                                 []  "
      ]
     },
     "execution_count": 10,
     "metadata": {},
     "output_type": "execute_result"
    }
   ],
   "source": [
    "df_results"
   ]
  },
  {
   "cell_type": "code",
   "execution_count": 11,
   "metadata": {},
   "outputs": [],
   "source": [
    "# Extract all SEMRush_Data from df_results\n",
    "all_keywords = []\n",
    "for data in df_results['SEMRush_Data']:\n",
    "    if data:\n",
    "        all_keywords.extend([item['Keyword'] for item in data])"
   ]
  },
  {
   "cell_type": "code",
   "execution_count": 13,
   "metadata": {},
   "outputs": [
    {
     "data": {
      "text/html": [
       "<div>\n",
       "<style scoped>\n",
       "    .dataframe tbody tr th:only-of-type {\n",
       "        vertical-align: middle;\n",
       "    }\n",
       "\n",
       "    .dataframe tbody tr th {\n",
       "        vertical-align: top;\n",
       "    }\n",
       "\n",
       "    .dataframe thead th {\n",
       "        text-align: right;\n",
       "    }\n",
       "</style>\n",
       "<table border=\"1\" class=\"dataframe\">\n",
       "  <thead>\n",
       "    <tr style=\"text-align: right;\">\n",
       "      <th></th>\n",
       "      <th>Keyword</th>\n",
       "      <th>Search Volume</th>\n",
       "      <th>Frequency</th>\n",
       "    </tr>\n",
       "  </thead>\n",
       "  <tbody>\n",
       "    <tr>\n",
       "      <th>0</th>\n",
       "      <td>best places to work remotely in asia</td>\n",
       "      <td>40</td>\n",
       "      <td>4</td>\n",
       "    </tr>\n",
       "  </tbody>\n",
       "</table>\n",
       "</div>"
      ],
      "text/plain": [
       "                                Keyword Search Volume  Frequency\n",
       "0  best places to work remotely in asia            40          4"
      ]
     },
     "execution_count": 13,
     "metadata": {},
     "output_type": "execute_result"
    }
   ],
   "source": [
    "# Count the occurrence of each keyword\n",
    "keyword_counts = Counter(all_keywords)\n",
    "\n",
    "# Determine the highest and second highest ranking_sites number\n",
    "highest_count = max(keyword_counts.values())\n",
    "second_highest_count = sorted(set(keyword_counts.values()), reverse=True)[1] if len(set(keyword_counts.values())) > 1 else 0\n",
    "\n",
    "# Get top keywords based on the highest and second highest ranking_sites number\n",
    "top_keywords = [keyword for keyword, count in keyword_counts.items() if count == highest_count or count == second_highest_count]\n",
    "\n",
    "# If the highest ranking_sites number is just 2, select keywords with ranking_sites==2 and ranking_sites==1\n",
    "if highest_count == 2:\n",
    "    top_keywords = [keyword for keyword, count in keyword_counts.items() if count in [1, 2]]\n",
    "\n",
    "# Get the top 10 search volume keywords\n",
    "search_volume_keywords = sorted(\n",
    "    [(item['Keyword'], int(item['Search Volume'])) for data in df_results['SEMRush_Data'] if data for item in data],\n",
    "    key=lambda x: x[1],\n",
    "    reverse=True\n",
    ")[:10]\n",
    "\n",
    "# Combine the top keywords and top search volume keywords\n",
    "final_keywords = set(top_keywords + [keyword for keyword, _ in search_volume_keywords])\n",
    "\n",
    "# Create a DataFrame with the final keywords, their search volumes, and frequencies\n",
    "final_keywords_df = pd.DataFrame(\n",
    "    [(keyword, \n",
    "      next((item['Search Volume'] for data in df_results['SEMRush_Data'] if data for item in data if item['Keyword'] == keyword), 0),\n",
    "      keyword_counts[keyword])\n",
    "     for keyword in final_keywords],\n",
    "    columns=['Keyword', 'Search Volume', 'Frequency']\n",
    ")\n",
    "\n",
    "# Sort the DataFrame by Frequency first, then by Search Volume\n",
    "final_keywords_df = final_keywords_df.sort_values(by=['Frequency', 'Search Volume'], ascending=[False, False])\n",
    "\n",
    "# Return the DataFrame\n",
    "final_keywords_df\n"
   ]
  },
  {
   "cell_type": "markdown",
   "metadata": {},
   "source": [
    "## Step 4: Fetch Content\n",
    "https://jina.ai/reader/"
   ]
  },
  {
   "cell_type": "code",
   "execution_count": 34,
   "metadata": {},
   "outputs": [],
   "source": [
    "def fetch_content(url):\n",
    "    print(f'working on {url}')\n",
    "    headers = {\n",
    "        'Authorization': f'Bearer {os.getenv(\"JINA_API_KEY\")}',\n",
    "        'X-Retain-Images': 'none',\n",
    "        \"Accept\": \"application/json\",\n",
    "        'X-Timeout': '15'\n",
    "    }\n",
    "\n",
    "    response = requests.get(f'https://r.jina.ai/{url}', headers=headers).json()\n",
    "    if response['code'] == 200:\n",
    "        return response['data']['content']\n",
    "    elif response['code'] != 200:\n",
    "        return f\"ERROR: {url} blocks Jina API\"\n",
    "    else:\n",
    "        print(f\"ERROR: Failed to use Jina API\")\n"
   ]
  },
  {
   "cell_type": "code",
   "execution_count": null,
   "metadata": {},
   "outputs": [],
   "source": [
    "df_results['Content'] = df_results['Link'].apply(fetch_content)"
   ]
  },
  {
   "cell_type": "code",
   "execution_count": null,
   "metadata": {},
   "outputs": [],
   "source": [
    "df_results"
   ]
  },
  {
   "cell_type": "markdown",
   "metadata": {},
   "source": [
    "## Step 5: Analyzing Content"
   ]
  },
  {
   "cell_type": "code",
   "execution_count": null,
   "metadata": {},
   "outputs": [],
   "source": [
    "df_results.iloc[1]['SEMRush_Data']"
   ]
  },
  {
   "cell_type": "code",
   "execution_count": 41,
   "metadata": {},
   "outputs": [],
   "source": [
    "messages = [\n",
    "    {\"role\": \"system\", \"content\": \"You are a content researcher who is expertised in analyzing webpages.\"},\n",
    "    {\"role\": \"user\", \"content\": f\"review the provided content below and do the following, \"\n",
    "                                f\"First, analyze whether it's a blog or an article. \"\n",
    "                                f\"If not, give it a miss and move on; if yes, add it to your review list. \"\n",
    "                                f\"For all articles or blog articles in the review list. Review them carefully and provide your analysis which consists of the 3 parts: \"\n",
    "                                f\"(1.) common topics and subtopics \"\n",
    "                                f\"(2.) contradicting points of view among the top 10 results \"\n",
    "                                f\"(3.) for users searching for '{topic_query}', what could be information that they want to know while not covered or questions that aren't answered?\\n\\n\"\n",
    "                                + \"\\n\".join([f\"WEB_CONTENT {i+1}\\n{content}\" for i, content in enumerate(df_results['Content'])])\n",
    "     }\n",
    "]\n"
   ]
  },
  {
   "cell_type": "code",
   "execution_count": null,
   "metadata": {},
   "outputs": [],
   "source": [
    "messages"
   ]
  },
  {
   "cell_type": "code",
   "execution_count": 55,
   "metadata": {},
   "outputs": [],
   "source": [
    "\n",
    "response = client.chat.completions.create(\n",
    "    model=model[1],\n",
    "    messages=messages,\n",
    "    temperature=0.75\n",
    ")\n",
    "\n",
    "content_analysis = response.choices[0].message.content"
   ]
  },
  {
   "cell_type": "code",
   "execution_count": null,
   "metadata": {},
   "outputs": [],
   "source": [
    "print(content_analysis)"
   ]
  },
  {
   "cell_type": "markdown",
   "metadata": {},
   "source": [
    "## Step 6: Generate Content Plan"
   ]
  },
  {
   "cell_type": "code",
   "execution_count": 57,
   "metadata": {},
   "outputs": [],
   "source": [
    "messages = [\n",
    "    {\"role\": \"system\", \"content\": \"You are an expert content planner, who is an expert at creating a content plan is clear and easy to followed for content writer.\"},\n",
    "    {\"role\": \"user\", \"content\": f\"review the content analysis below and put together a content plan that contains the following:\\n\\n\"\n",
    "                                f\"Topic: {topic_query}\\n\"\n",
    "                                f\"A content outline with hierarchical structure of headings and subheadings\\n\\n\"\n",
    "                                f\"SEO Keywords: incorporate top keywords: {final_keywords}\\n\\n\"\n",
    "                                f\"while putting together a content plan, ensure that:\\n\"\n",
    "                                f\"the common topics and subtopics are covered\\n\"\n",
    "                                f\"make a note for contradicting points\\n\\n\"\n",
    "                                f\"CONTENT ANALYSIS\\n {content_analysis}\"\n",
    "     }\n",
    "]"
   ]
  },
  {
   "cell_type": "code",
   "execution_count": null,
   "metadata": {},
   "outputs": [],
   "source": [
    "messages"
   ]
  },
  {
   "cell_type": "code",
   "execution_count": 59,
   "metadata": {},
   "outputs": [],
   "source": [
    "response = client.chat.completions.create(\n",
    "    model=model[1],\n",
    "    messages=messages,\n",
    "    temperature=0.75\n",
    ")\n",
    "\n",
    "content_plan = response.choices[0].message.content"
   ]
  },
  {
   "cell_type": "code",
   "execution_count": null,
   "metadata": {},
   "outputs": [],
   "source": [
    "content_plan"
   ]
  },
  {
   "cell_type": "markdown",
   "metadata": {},
   "source": [
    "## Step 7: Generate Content Draft"
   ]
  },
  {
   "cell_type": "code",
   "execution_count": 61,
   "metadata": {},
   "outputs": [],
   "source": [
    "messages = [\n",
    "    {\"role\": \"system\", \"content\": \"You are an expert content writer. You are excellent at following the content plan provided and writing blog posts that are engaging and inspiring while also follow SEO best practices.\"},\n",
    "    {\"role\": \"user\", \"content\": f\"Review the Content Plan and Competitor Content Analysis below and write an article. Provide just the article and nothing else:\\n\\n\"\n",
    "                                f\"Content Plan:\\n {content_plan}\\n\\n\"\n",
    "                                f\"Competitor Content Analysis:\\n {content_analysis}\"\n",
    "\n",
    "     }\n",
    "]"
   ]
  },
  {
   "cell_type": "code",
   "execution_count": 62,
   "metadata": {},
   "outputs": [],
   "source": [
    "response = client.chat.completions.create(\n",
    "    model=model[1],\n",
    "    messages=messages,\n",
    "    temperature=0.75\n",
    ")"
   ]
  },
  {
   "cell_type": "code",
   "execution_count": null,
   "metadata": {},
   "outputs": [],
   "source": [
    "content_draft = response.choices[0].message.content\n"
   ]
  },
  {
   "cell_type": "code",
   "execution_count": null,
   "metadata": {},
   "outputs": [],
   "source": [
    "print(content_draft)"
   ]
  },
  {
   "cell_type": "markdown",
   "metadata": {},
   "source": [
    "## Step 8: Proofread the Draft Post"
   ]
  },
  {
   "cell_type": "code",
   "execution_count": 66,
   "metadata": {},
   "outputs": [],
   "source": [
    "messages = [\n",
    "    {\"role\": \"system\", \"content\": \"You are an expert content editor. You are excellent at reviewing and editing content to make it engaging while following the SEO best practices.\"},\n",
    "    {\"role\": \"user\", \"content\": f\"Review the Content Draft below and make sure it follows the content plan, and is better than competitor's content as shown in Competitor Content Analysis. Provide just the article and nothing else:\\n\\n\"\n",
    "                                f\"Content Draft:\\n {content_draft}\\n\\n\"\n",
    "                                f\"Content Plan:\\n {content_plan}\\n\\n\"\n",
    "                                f\"Competitor Content Analysis:\\n {content_analysis}\"\n",
    "     }\n",
    "]"
   ]
  },
  {
   "cell_type": "code",
   "execution_count": 67,
   "metadata": {},
   "outputs": [],
   "source": [
    "response = client.chat.completions.create(\n",
    "    model=model[1],\n",
    "    messages=messages,\n",
    "    temperature=0.75\n",
    ")\n",
    "\n",
    "proofread_draft = response.choices[0].message.content"
   ]
  },
  {
   "cell_type": "code",
   "execution_count": null,
   "metadata": {},
   "outputs": [],
   "source": [
    "print(proofread_draft)"
   ]
  },
  {
   "cell_type": "markdown",
   "metadata": {},
   "source": [
    "## Step 9: SEO expert"
   ]
  },
  {
   "cell_type": "code",
   "execution_count": 69,
   "metadata": {},
   "outputs": [],
   "source": [
    "messages = [\n",
    "    {\"role\": \"system\", \"content\": \"You are an SEO expert. You are excellent at providing recommendations for Title tag and Meta Description for a given blog article.\"},\n",
    "    {\"role\": \"user\", \"content\": f\"Review the Content below as well as Targeting Keywords (optional). Provide an URL slug, 3 variants of Title tag, 3 variants of Meta Description. Provide Just the Title and Meta Description and nothing else:\\n\\n\"\n",
    "                                f\"Content:\\n {proofread_draft}\\n\\n\"\n",
    "                                f\"Targeting Keywords:\\n {final_keywords}\\n\"\n",
    "     }\n",
    "]\n",
    "\n",
    "response = client.chat.completions.create(\n",
    "    model=model[1],\n",
    "    messages=messages,\n",
    "    temperature=0.75\n",
    ")\n",
    "\n",
    "seo_recommendation = response.choices[0].message.content"
   ]
  },
  {
   "cell_type": "code",
   "execution_count": null,
   "metadata": {},
   "outputs": [],
   "source": [
    "print(seo_recommendation)"
   ]
  },
  {
   "cell_type": "markdown",
   "metadata": {},
   "source": [
    "## Step 10: Summarization"
   ]
  },
  {
   "cell_type": "code",
   "execution_count": 73,
   "metadata": {},
   "outputs": [],
   "source": [
    "messages = [\n",
    "    {\"role\": \"system\", \"content\": \"You are a Senior Project Manager. You are excellent at delivering content to the client in a clear and easy-to-follow format.\"},\n",
    "    {\"role\": \"user\", \"content\": f\"Review the following information - and generate a document that clearly explain the entire content generation, which should include Title & Meta Description (as well as other options), URL, Targeting Keywords, (and searvh volume), Competitors (only use Position, Link, and Title in the dataframe), Notes (explain that in this content, what are covered, what are points that competitors don't cover, and what requires human validation and review), and most importantly the Final Content. Provide just the final deliverable and nothing else:\\n\\n\"\n",
    "                                f\"Content:\\n {proofread_draft}\\n\\n\"\n",
    "                                f\"SEO Recommendations:\\n {seo_recommendation}\\n\"\n",
    "                                f\"Targeting Keywords:\\n {final_keywords_df}\\n\"\n",
    "                                f\"Competitors:\\n {df_serp}\\n\"\n",
    "                                f\"Competitors Analysis:\\n {content_analysis}\\n\"\n",
    "     }\n",
    "]\n",
    "\n",
    "response = client.chat.completions.create(\n",
    "    model=model[1],\n",
    "    messages=messages,\n",
    "    temperature=0.75\n",
    ")\n",
    "\n",
    "final_deliverable = response.choices[0].message.content"
   ]
  },
  {
   "cell_type": "code",
   "execution_count": null,
   "metadata": {},
   "outputs": [],
   "source": [
    "print(final_deliverable)"
   ]
  }
 ],
 "metadata": {
  "kernelspec": {
   "display_name": ".venv",
   "language": "python",
   "name": "python3"
  },
  "language_info": {
   "codemirror_mode": {
    "name": "ipython",
    "version": 3
   },
   "file_extension": ".py",
   "mimetype": "text/x-python",
   "name": "python",
   "nbconvert_exporter": "python",
   "pygments_lexer": "ipython3",
   "version": "3.11.0"
  }
 },
 "nbformat": 4,
 "nbformat_minor": 2
}
